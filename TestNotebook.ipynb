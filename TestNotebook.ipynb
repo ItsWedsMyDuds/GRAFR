{
 "cells": [
  {
   "cell_type": "heading",
   "metadata": {},
   "level": 1,
   "source": []
  },
  {
   "cell_type": "code",
   "execution_count": null,
   "metadata": {
    "collapsed": true
   },
   "outputs": [],
   "source": [
    "import numpy as np\n",
    "import pandas as pd\n",
    "#import xlrd\n",
    "import os\n",
    "import statistics\n",
    "from statistics import stdev\n",
    "from fractions import Fraction as fr\n",
    "import matplotlib\n",
    "from matplotlib import pyplot as plt\n",
    "from matplotlib.figure import Figure\n",
    "print(\"Plotting.....\",end=\"\",flush=True)\n",
    "\n",
    "file = \"C:\\\\Users\\\\reidn\\\\Desktop\\\\cellStats\\\\cell_details.xlsx\"\n",
    "df = pd.read_excel(file)\n",
    "#print(df.columns)\n",
    "xVals = df['X Pos'].values\n",
    "yVals = df['Y Pos'].values\n",
    "\n",
    "count = 0\n",
    "xlist = []\n",
    "xStds = []\n",
    "\n",
    "ylist = []\n",
    "yStds = []\n",
    "for val in xVals:\n",
    "    count+=1\n",
    "    if val == \"-\":\n",
    "        continue\n",
    "    if count%50 == 0:\n",
    "        xStds.append(statistics.stdev(xlist))\n",
    "        #print(statistics.stdev(xlist))\n",
    "        #print(count)\n",
    "        xlist = []\n",
    "    #count +=1\n",
    "    xlist.append(int(val))\n",
    "\n",
    "for val in yVals:\n",
    "    count+=1\n",
    "    if val == \"-\":\n",
    "        continue\n",
    "    if count%50 == 0:\n",
    "        yStds.append(statistics.stdev(ylist))\n",
    "        #print(statistics.stdev(ylist))\n",
    "        #print(count)\n",
    "        ylist = []\n",
    "    #count +=1\n",
    "    ylist.append(int(val))\n",
    "print(\"DONE\")\n",
    "\n",
    "# fig = Figure(figsize=(5, 4), dpi=100)\n",
    "# t = np.arange(0, 3, .01)\n",
    "# fig.add_subplot(111).plot(t, 2 * np.sin(2 * np.pi * t))\n",
    "plt.figure(1, figsize=(10,10))\n",
    "plt.show()\n",
    "\n",
    "plt.hist(xlist)\n",
    "matplotlib.pyplot.show()\n",
    "\n",
    "matplotlib.pyplot.hist(ylist, orientation=u'horizontal')\n",
    "matplotlib.pyplot.show()"
   ]
  }
 ],
 "metadata": {
  "kernelspec": {
   "display_name": "Python 2",
   "language": "python",
   "name": "python2"
  },
  "language_info": {
   "codemirror_mode": {
    "name": "ipython",
    "version": 2
   },
   "file_extension": ".py",
   "mimetype": "text/x-python",
   "name": "python",
   "nbconvert_exporter": "python",
   "pygments_lexer": "ipython2",
   "version": "2.7.6"
  }
 },
 "nbformat": 4,
 "nbformat_minor": 0
}
